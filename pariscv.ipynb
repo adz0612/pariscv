{
  "nbformat": 4,
  "nbformat_minor": 0,
  "metadata": {
    "colab": {
      "provenance": [],
      "collapsed_sections": []
    },
    "kernelspec": {
      "name": "python3",
      "display_name": "Python 3"
    },
    "language_info": {
      "name": "python"
    }
  },
  "cells": [
    {
      "cell_type": "code",
      "source": [
        "#dictionary starts here\n",
        "d = {}\n",
        "listin1=[]\n",
        "listin2=[]\n",
        "i=0\n",
        "with open(\"dictmake.log\") as f3:\n",
        "    for line in f3:\n",
        "       Type = line.split()\n",
        "       d[Type[0]] = i\n",
        "       listin1.append(Type[0])\n",
        "       listin2.append(Type[2])\n",
        "       i=i+1\n",
        "#This dictionary has the instruction in the objdump of kernel and line number"
      ],
      "metadata": {
        "id": "tmbGsu7xQ9pa"
      },
      "execution_count": null,
      "outputs": []
    },
    {
      "cell_type": "code",
      "source": [
        "#The percentage, number of times each line occurs is obtained here\n",
        "f4 = open(\"trace.log\",\"r\")\n",
        "numtimes=[]\n",
        "for i in range(0,67):\n",
        "    numtimes.append(0)\n",
        "for line in f4:\n",
        "    Type1 = line.split(\" \")\n",
        "    numtimes[d[Type1[2]]]=numtimes[d[Type1[2]]]+1\n",
        "total=sum(numtimes)\n",
        "pc=[]\n",
        "for i in numtimes:\n",
        "  pc.append(round((i/total)*100,3))"
      ],
      "metadata": {
        "id": "wu0cMbU9RLF5"
      },
      "execution_count": null,
      "outputs": []
    },
    {
      "cell_type": "code",
      "source": [
        "#the obtained percentage, number of times is written into the file to manually\n",
        "#decide which sequence can be converted into custom instruction\n",
        "myfile = open('myfile1.txt', 'w')\n",
        "for i in range(0,67):\n",
        "  myfile.write(listin1[i]+'\\t'+listin2[i]+'\\t'+str(numtimes[i])+'\\n')\n",
        "myfile.close()\n",
        "\n",
        "myfile = open('myfile.txt', 'w')\n",
        "\n",
        "for i in range(0,67):\n",
        "  myfile.write(listin1[i]+'\\t'+listin2[i]+'\\t'+str(pc[i])+'% \\n')\n",
        "myfile.close()"
      ],
      "metadata": {
        "id": "_QKlBrX_RhTz"
      },
      "execution_count": null,
      "outputs": []
    },
    {
      "cell_type": "code",
      "execution_count": 1,
      "metadata": {
        "id": "Pl6GCB18BsOm"
      },
      "outputs": [],
      "source": [
        "#The following section is used to estimate the improvements predicted to be \n",
        "#achieved\n",
        "f = open(\"gdbwave.log\",\"r\")\n",
        "prevcycle=0;\n",
        "cycle=[];\n",
        "instruction=[];\n",
        "\n",
        "for line in f:\n",
        "    Type = line.split(\" \")\n",
        "    cycle.append(Type[1])\n",
        "    instruction.append(Type[3])"
      ]
    },
    {
      "cell_type": "code",
      "source": [
        "#run this cell to get the reduction in cycles due to custom instruction\n",
        "savedcycles=0\n",
        "freq=7168\n",
        "for i in range(0,len(instruction)-1):\n",
        "  if((instruction[i]=='00a786b3\\n')and(instruction[i+1]=='0006c603\\n')):\n",
        "    savedcycles=savedcycles+int((int(cycle[i+1])-int(cycle[i-1]))/2)\n",
        "    i=i+1\n",
        "pcsaved=((savedcycles-freq)*100)/((int(cycle[len(instruction)-1])-int(cycle[0]))/2)\n",
        "round(pcsaved,3)"
      ],
      "metadata": {
        "colab": {
          "base_uri": "https://localhost:8080/"
        },
        "id": "TjeeJtewBuxm",
        "outputId": "21b083b2-5d2c-4602-faf2-19fe63ccbb14"
      },
      "execution_count": 23,
      "outputs": [
        {
          "output_type": "execute_result",
          "data": {
            "text/plain": [
              "10.898"
            ]
          },
          "metadata": {},
          "execution_count": 23
        }
      ]
    },
    {
      "cell_type": "code",
      "source": [],
      "metadata": {
        "colab": {
          "base_uri": "https://localhost:8080/"
        },
        "id": "C6K60MyVDpgO",
        "outputId": "03cee9da-593b-493d-bfb5-d087945ec76d"
      },
      "execution_count": 7,
      "outputs": [
        {
          "output_type": "execute_result",
          "data": {
            "text/plain": [
              "75833"
            ]
          },
          "metadata": {},
          "execution_count": 7
        }
      ]
    },
    {
      "cell_type": "code",
      "source": [],
      "metadata": {
        "id": "lBs2QlpNDw-Q"
      },
      "execution_count": 16,
      "outputs": []
    },
    {
      "cell_type": "code",
      "source": [],
      "metadata": {
        "colab": {
          "base_uri": "https://localhost:8080/"
        },
        "id": "Caw-QNZlMzP2",
        "outputId": "fc067a6d-22c8-4e74-9153-c370861d3ddc"
      },
      "execution_count": 22,
      "outputs": [
        {
          "output_type": "execute_result",
          "data": {
            "text/plain": [
              "10.898"
            ]
          },
          "metadata": {},
          "execution_count": 22
        }
      ]
    }
  ]
}